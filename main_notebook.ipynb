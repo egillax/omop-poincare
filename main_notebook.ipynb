{
 "cells": [
  {
   "cell_type": "code",
   "metadata": {
    "ExecuteTime": {
     "end_time": "2024-10-29T09:06:21.188203Z",
     "start_time": "2024-10-29T09:06:15.113037Z"
    }
   },
   "source": [
    "import csv\n",
    "import torch\n",
    "import matplotlib.pyplot as plt\n",
    "import pandas as pd\n",
    "import numpy as np\n",
    "from pathlib import Path\n",
    "\n",
    "from shared.plot import plot_geodesic, plot_hierarchy, plot_train_embed, get_dict_data\n",
    "from shared.io import read_data, read_ref\n",
    "from train import init_torch_objects, train\n",
    "\n",
    "OUT_DIMENSIONS = 10 # 50\n",
    "NEG_SAMPLES = 10 # 10\n",
    "EPOCH = 500\n",
    "DEVICE = \"cuda:0\" # or \"cpu\"\n",
    "torch.set_default_dtype(torch.float64)"
   ],
   "outputs": [],
   "execution_count": 1
  },
  {
   "cell_type": "code",
   "metadata": {
    "ExecuteTime": {
     "end_time": "2024-10-29T13:27:05.656235Z",
     "start_time": "2024-10-29T13:27:03.326958Z"
    }
   },
   "source": [
    "# Plot geodesic comparison between Poincaré and Euclidean\n",
    "# plot_geodesic()\n",
    "import torch\n",
    "print(torch.cuda.is_available())"
   ],
   "outputs": [
    {
     "name": "stdout",
     "output_type": "stream",
     "text": [
      "True\n"
     ]
    }
   ],
   "execution_count": 1
  },
  {
   "cell_type": "code",
   "metadata": {},
   "source": [
    "# Load edge data\n",
    "data, weights, objects, neighbors, diff_summed, num_relations = read_data(Path(\"data\",\"opehr_concepts_11454.csv\"))\n",
    "\n",
    "# load concept reference \n",
    "ref = read_ref(Path('data','ref.csv'))\n",
    "\n",
    "# define fixed index clinical finding\n",
    "clinical_finding_concept_id = 441840\n",
    "fixed_index = objects.index(clinical_finding_concept_id)\n",
    "\n",
    "# initialize torch objects for the training loop\n",
    "model, optimizer, loss_func = init_torch_objects(objects, OUT_DIMENSIONS, fixed_index)\n",
    "\n",
    "if \"cuda:0\" == DEVICE:\n",
    "    model = model.to(DEVICE)\n",
    "\n",
    "# ToDo: implement function to load embedding and continue training\n",
    "\n",
    "# ensure that ref contains all concepts\n",
    "dict_data = dict(enumerate(objects))\n",
    "for key, value in dict_data.items():\n",
    "    try:\n",
    "        dict_data[key] = ref.loc[ref['concept_id'] == value].concept_name.values[0]\n",
    "    except Exception as e:\n",
    "        print(f\"Error at Key={key}, Value={value}, Error={e}\")\n"
   ],
   "outputs": [],
   "execution_count": null
  },
  {
   "cell_type": "code",
   "metadata": {},
   "source": [
    "# plot_hierarchy(data, objects, ref, True)"
   ],
   "outputs": [],
   "execution_count": null
  },
  {
   "cell_type": "code",
   "metadata": {},
   "source": [
    "train(data=data, weights=weights, objects=objects, neighbors=neighbors,\n",
    "      diff_summed=diff_summed, num_relations=num_relations,\n",
    "      model=model, optimizer=optimizer, loss_func=loss_func,\n",
    "      out_dimensions=OUT_DIMENSIONS, n_neg_samples=NEG_SAMPLES, n_epochs=EPOCH,\n",
    "      n_burn_in=10, device=DEVICE)"
   ],
   "outputs": [],
   "execution_count": null
  },
  {
   "cell_type": "code",
   "metadata": {},
   "source": [
    "dict_data = get_dict_data(objects, ref, dict_type=\"name\")\n",
    "model = torch.load(\"output/poincare_model_dim_3.pt\")\n",
    "coordinates = model[\"state_dict\"][\"embedding.weight\"].numpy()\n",
    "# print(model.state_dict()['embedding.weight'])\n",
    "# coordinates = model.embedding.weight\n",
    "print(coordinates)\n",
    "#######################################################\n",
    "# some experiment with 3d plotting in TF projector  \n",
    "x_np = coordinates # .detach().numpy()\n",
    "x_df = pd.DataFrame(x_np)\n",
    "x_df.to_csv(Path('output','tf_proj_vec.tsv'), sep=\"\\t\", index=False, header=False)\n",
    "\n",
    "df = pd.Series(dict_data)\n",
    "df.to_string()\n",
    "print(df)\n",
    "df.to_csv(Path('output','tf_proj_lab.tsv'), sep=\"\\t\", index=False, header=False,\n",
    "          quoting=csv.QUOTE_NONNUMERIC)\n",
    "# df[\"index\"].map(dictData)\n",
    "###########################\n",
    "\n",
    "# print(len(objects))\n",
    "#print(data)\n",
    "\n",
    "plt.figure()\n",
    "plt.xlim(-1, 1)\n",
    "plt.ylim(-1, 1)\n",
    "plt.axis('off')\n",
    "\n",
    "data, weights, objects, neighbors, diff_summed, num_relations = read_data(\"data/opehr_concepts.csv\")\n",
    "\n",
    "# add some jitter to better see labels\n",
    "jitter = 0.02\n",
    "jitter_x = np.random.uniform(low=-jitter, high = jitter, size=(coordinates.shape[0], ))\n",
    "jitter_y = np.random.uniform(low=-jitter, high = jitter, size=(coordinates.shape[0], ))\n",
    "\n",
    "for x in range(coordinates.shape[0]):\n",
    "    plt.annotate(dict_data[x], (coordinates[x,0].detach().numpy()+jitter_x[x],\n",
    "                               coordinates[x,1].detach().numpy()+jitter_y[x]), fontsize=4)\n",
    "    # plt.annotate(dictData[x], (coordinates[x,0]*100, coordinates[x,1]*100),\n",
    "    #              bbox={\"fc\":\"white\", \"alpha\":0.9}, fontsize=4)\n",
    "\n",
    "# Plot edges of original hierarchy\n",
    "for i in range(data.shape[0]):\n",
    "    x_values = [coordinates[data[i][0], 0].detach().numpy(), coordinates[data[i][1], 0].detach().numpy()]\n",
    "    y_values = [coordinates[data[i][0], 1].detach().numpy(), coordinates[data[i][1], 1].detach().numpy()]\n",
    "#\n",
    "#     x_val = [coordinates[data[x][0],0].detach().numpy(), coordinates[data[x][1],1].detach().numpy()]\n",
    "#     y_val = [coordinates[data[x][0],0].detach().numpy(), coordinates[data[x][1],1].detach().numpy()]\n",
    "    plt.plot(x_values, y_values, color=\"black\", linewidth=0.2)\n",
    "\n",
    "plt.savefig(Path(\"output\", \"hierarchy_embed.png\"), dpi=300, facecolor=\"white\")\n",
    "plt.show()"
   ],
   "outputs": [],
   "execution_count": null
  },
  {
   "cell_type": "code",
   "source": [
    "from shared.io import write_tensorflow_projector_data\n",
    "\n",
    "model_path = 'output/poincare_model_dim_10_epoch_100.pt'\n",
    "ref_csv_path = 'data/ref.csv'\n",
    "\n",
    "write_tensorflow_projector_data(model_path, ref_csv_path)"
   ],
   "metadata": {
    "collapsed": false
   },
   "outputs": [],
   "execution_count": null
  },
  {
   "metadata": {},
   "cell_type": "code",
   "source": [
    "import torch\n",
    "\n",
    "# Load the tensor from the .pt file\n",
    "file_path = \"D:/git/omop-poincare/output/embedding.pt\"\n",
    "tensor = torch.load(file_path, map_location=torch.device(\"cpu\"))\n",
    "\n",
    "# Print the contents of the tensor\n",
    "print(tensor)\n"
   ],
   "outputs": [],
   "execution_count": null
  },
  {
   "metadata": {
    "ExecuteTime": {
     "end_time": "2024-10-28T15:16:47.405768Z",
     "start_time": "2024-10-28T15:16:47.397585Z"
    }
   },
   "cell_type": "code",
   "source": [
    "import torch\n",
    "\n",
    "# Check if CUDA is available\n",
    "cuda_available = torch.cuda.is_available()\n",
    "\n",
    "# Print the result\n",
    "if cuda_available:\n",
    "    print(\"CUDA is available.\")\n",
    "else:\n",
    "    print(\"CUDA is not available.\")\n",
    "\n"
   ],
   "outputs": [
    {
     "name": "stdout",
     "output_type": "stream",
     "text": [
      "CUDA is not available.\n"
     ]
    }
   ],
   "execution_count": 7
  },
  {
   "metadata": {
    "collapsed": false,
    "ExecuteTime": {
     "end_time": "2024-10-29T13:48:36.041806Z",
     "start_time": "2024-10-29T13:48:33.539156Z"
    }
   },
   "cell_type": "code",
   "source": [
    "from shared.io import convert_embedding_for_plp\n",
    "\n",
    "convert_embedding_for_plp(\"output/poincare_model_dim_10_epoch_250.pt\", \"output/embedding.pt\")\n"
   ],
   "outputs": [],
   "execution_count": 1
  },
  {
   "metadata": {
    "ExecuteTime": {
     "end_time": "2024-10-29T09:07:21.015077Z",
     "start_time": "2024-10-29T09:07:20.990644Z"
    }
   },
   "cell_type": "code",
   "source": [
    "R = torch.load(\"output/custom_embeddings.pt\")\n",
    "print(R)\n",
    "P = torch.load(\"output/embedding.pt\", map_location=torch.device(\"cpu\"))\n",
    "print(P)"
   ],
   "outputs": [
    {
     "name": "stderr",
     "output_type": "stream",
     "text": [
      "C:\\Users\\luish\\AppData\\Local\\Temp\\ipykernel_14252\\1100853144.py:1: FutureWarning: You are using `torch.load` with `weights_only=False` (the current default value), which uses the default pickle module implicitly. It is possible to construct malicious pickle data which will execute arbitrary code during unpickling (See https://github.com/pytorch/pytorch/blob/main/SECURITY.md#untrusted-models for more details). In a future release, the default value for `weights_only` will be flipped to `True`. This limits the functions that could be executed during unpickling. Arbitrary objects will no longer be allowed to be loaded via this mode unless they are explicitly allowlisted by the user via `torch.serialization.add_safe_globals`. We recommend you start setting `weights_only=True` for any use case where you don't have full control of the loaded file. Please open an issue on GitHub for any issues related to this experimental feature.\n",
      "  R = torch.load(\"output/custom_embeddings.pt\")\n"
     ]
    },
    {
     "name": "stdout",
     "output_type": "stream",
     "text": [
      "{'concept_ids': tensor([ 4285898,   372328,  4283893,   260139, 40481087,  4218389,  4156265,\n",
      "           30753,  4112343,  4116491,    28060,    81893,   257012,   378001,\n",
      "         4001336,  4132546,  4155034,   195588,  4029498,  4152936,  4113008,\n",
      "         4296204,  4310024,  4280726,   375671,  4296205,  4278672,  4237458,\n",
      "           81151,   198199, 40486433,  4149245,  4294548,    78272,   134438,\n",
      "          317576,  4056621,   198809,   196456,  4134304,    80809,  4048171,\n",
      "         4109685,  4059173,   258780,  4035415,   439777,   381316,   321042,\n",
      "          261325,  4084167,  4142905]), 'embeddings': tensor([[-9.4811e-01, -2.9709e-01,  1.5680e+00],\n",
      "        [-2.4519e-01,  2.7120e-01, -1.3439e+00],\n",
      "        [ 2.9383e-03,  2.2134e-01, -6.7727e-01],\n",
      "        [ 1.6553e+00,  1.9824e+00, -8.4939e-01],\n",
      "        [-6.8818e-01, -1.0944e+00, -7.8868e-01],\n",
      "        [-5.6375e-01,  2.5923e-02, -8.4200e-02],\n",
      "        [-1.4175e+00, -8.9604e-01, -1.1830e+00],\n",
      "        [-6.1173e-01,  4.4438e-01, -8.4052e-01],\n",
      "        [-2.4974e-01, -4.1459e-01, -1.5456e-02],\n",
      "        [ 1.1119e-01,  2.0510e-01,  1.2733e+00],\n",
      "        [-1.7205e-01,  3.3958e-01,  3.4451e-01],\n",
      "        [ 9.2953e-01,  2.8063e-02,  5.2892e-01],\n",
      "        [ 7.2639e-01,  5.0024e-02,  1.6206e+00],\n",
      "        [ 9.1189e-01, -9.7513e-01,  6.7427e-01],\n",
      "        [ 1.5568e-01, -1.7474e+00,  3.2276e-01],\n",
      "        [ 6.6483e-01,  1.4542e-01, -3.8424e-01],\n",
      "        [-9.2923e-01, -1.2374e+00, -3.2361e-01],\n",
      "        [-8.6248e-01, -1.6594e+00,  6.2492e-01],\n",
      "        [ 1.4292e+00, -1.2154e+00, -4.4683e-01],\n",
      "        [-2.8061e+00, -2.1781e+00,  3.9350e-01],\n",
      "        [-1.0190e+00,  8.6217e-01,  1.4298e+00],\n",
      "        [ 6.4163e-01, -1.7174e-01,  1.8802e-01],\n",
      "        [ 1.1505e-02, -5.4708e-03,  4.6155e-01],\n",
      "        [-4.2850e-01, -2.0039e+00,  1.8451e+00],\n",
      "        [ 2.7984e-01,  1.1250e+00,  3.1973e-01],\n",
      "        [ 9.3536e-02, -1.1261e+00,  1.4459e-01],\n",
      "        [ 2.3983e-01, -3.1143e-01,  6.8794e-01],\n",
      "        [ 1.3991e-01, -2.4411e-01, -8.8548e-01],\n",
      "        [-2.9563e-01, -7.8214e-01,  3.4990e-01],\n",
      "        [ 1.1178e-01, -5.7498e-01,  2.1663e+00],\n",
      "        [ 1.6353e-01, -9.2747e-03, -1.1556e+00],\n",
      "        [ 7.2752e-01,  2.0440e-01, -5.1975e-01],\n",
      "        [ 7.5929e-01,  1.2954e+00,  1.1169e+00],\n",
      "        [ 6.3237e-02,  1.6105e+00, -4.4383e-01],\n",
      "        [ 2.6221e-01,  5.3578e-01, -8.1544e-02],\n",
      "        [-5.4781e-02, -3.1063e+00,  9.0161e-02],\n",
      "        [ 9.8520e-01, -8.6209e-01, -2.3188e-01],\n",
      "        [-7.9958e-01, -1.1684e+00, -1.3731e+00],\n",
      "        [-3.7662e-02,  5.8194e-01, -1.3693e+00],\n",
      "        [ 4.5108e-01, -8.3378e-01, -1.2353e+00],\n",
      "        [ 1.8245e+00, -7.7310e-01, -8.7300e-01],\n",
      "        [-3.2179e-02, -3.4125e-01, -7.3599e-01],\n",
      "        [ 7.4464e-01, -1.6923e+00,  5.4162e-01],\n",
      "        [ 6.1196e-01, -6.5115e-01, -2.9487e-01],\n",
      "        [ 4.0021e-01,  1.3245e-01,  3.6327e-01],\n",
      "        [-6.6026e-01,  6.5715e-01, -1.3175e+00],\n",
      "        [-1.2112e+00,  4.9186e-01,  8.0186e-01],\n",
      "        [ 1.3124e+00,  1.9070e+00, -2.9842e-02],\n",
      "        [ 5.8046e-01, -6.8018e-01, -2.3153e+00],\n",
      "        [ 1.1077e+00,  4.6247e-01, -2.1164e-01],\n",
      "        [-2.6191e-02, -8.6708e-01, -1.3599e+00],\n",
      "        [-1.2718e+00, -9.0961e-01,  4.1548e-01]], dtype=torch.float32)}\n"
     ]
    },
    {
     "name": "stderr",
     "output_type": "stream",
     "text": [
      "C:\\Users\\luish\\AppData\\Local\\Temp\\ipykernel_14252\\1100853144.py:3: FutureWarning: You are using `torch.load` with `weights_only=False` (the current default value), which uses the default pickle module implicitly. It is possible to construct malicious pickle data which will execute arbitrary code during unpickling (See https://github.com/pytorch/pytorch/blob/main/SECURITY.md#untrusted-models for more details). In a future release, the default value for `weights_only` will be flipped to `True`. This limits the functions that could be executed during unpickling. Arbitrary objects will no longer be allowed to be loaded via this mode unless they are explicitly allowlisted by the user via `torch.serialization.add_safe_globals`. We recommend you start setting `weights_only=True` for any use case where you don't have full control of the loaded file. Please open an issue on GitHub for any issues related to this experimental feature.\n",
      "  P = torch.load(\"output/embedding.pt\", map_location=torch.device(\"cpu\"))\n"
     ]
    },
    {
     "name": "stdout",
     "output_type": "stream",
     "text": [
      "{'concept_ids': tensor([ 432545, 4193873,  604687,  ...,  317305, 4327861, 4080696]), 'embeddings': tensor([[-0.3742,  0.3554,  0.3598,  ...,  0.2733,  0.1115,  0.4497],\n",
      "        [-0.3859,  0.3650,  0.3749,  ...,  0.2799,  0.1137,  0.4647],\n",
      "        [ 0.1416,  0.5443,  0.0320,  ...,  0.3132, -0.3221, -0.0980],\n",
      "        ...,\n",
      "        [ 0.2021,  0.1109, -0.4492,  ..., -0.3919, -0.1375, -0.2421],\n",
      "        [-0.2474, -0.0322, -0.0453,  ...,  0.0594,  0.0922,  0.0137],\n",
      "        [ 0.0052,  0.5007,  0.1800,  ...,  0.3878, -0.0180, -0.2906]],\n",
      "       dtype=torch.float32)}\n"
     ]
    }
   ],
   "execution_count": 4
  },
  {
   "metadata": {},
   "cell_type": "code",
   "outputs": [],
   "execution_count": null,
   "source": ""
  }
 ],
 "metadata": {
  "kernelspec": {
   "display_name": "Python 3 (ipykernel)",
   "language": "python",
   "name": "python3"
  },
  "language_info": {
   "codemirror_mode": {
    "name": "ipython",
    "version": 3
   },
   "file_extension": ".py",
   "mimetype": "text/x-python",
   "name": "python",
   "nbconvert_exporter": "python",
   "pygments_lexer": "ipython3",
   "version": "3.7.5"
  }
 },
 "nbformat": 4,
 "nbformat_minor": 1
}
